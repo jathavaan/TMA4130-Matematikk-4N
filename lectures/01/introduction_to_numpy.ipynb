{
 "cells": [
  {
   "cell_type": "markdown",
   "id": "remarkable-albert",
   "metadata": {},
   "source": [
    "# Introduction to Numpy\n",
    "\n",
    "Numpy is a library for defining and making computations on arrays. The data type it is based on is called \n",
    "*ndarrays* and sort of replaces *lists* that you may be used to from before. It is much more efficient to compute with this array-type than with lists.\n",
    "\n",
    "If you have not already installed numpy on your computer, try to remove the # in the cell below.\n"
   ]
  },
  {
   "cell_type": "code",
   "execution_count": 83,
   "id": "compound-forge",
   "metadata": {},
   "outputs": [],
   "source": [
    "#!pip install numpy"
   ]
  },
  {
   "cell_type": "markdown",
   "id": "billion-spice",
   "metadata": {},
   "source": [
    "## Getting started\n",
    "The first thing you need to do in order to make use of numpy is of course the import this module.\n",
    "One way of doing that is to execute the command below. The short name *np* is a very standard alias to use."
   ]
  },
  {
   "cell_type": "code",
   "execution_count": 84,
   "id": "arranged-train",
   "metadata": {},
   "outputs": [],
   "source": [
    "import numpy as np"
   ]
  },
  {
   "cell_type": "markdown",
   "id": "related-collection",
   "metadata": {},
   "source": [
    "Now you are ready to do more interesting things. The first function we want to consider is called *array* and it simply defines an instance of *ndarray*.\n",
    "\n",
    "Below, we define and print a vector b and then we check what kind of data type b is, and then we look at its dimension."
   ]
  },
  {
   "cell_type": "code",
   "execution_count": 85,
   "id": "municipal-plate",
   "metadata": {},
   "outputs": [
    {
     "name": "stdout",
     "output_type": "stream",
     "text": [
      "[1 2 3 4]\n",
      "<class 'numpy.ndarray'>\n",
      "(4,)\n",
      "4\n"
     ]
    }
   ],
   "source": [
    "# Define b\n",
    "b = np.array([1,2,3,4])\n",
    "# Print out b\n",
    "print(b)\n",
    "print(type(b)) # We now check what data type b really is\n",
    "print(b.shape) # the shape of B should be (4,)\n",
    "print(b.size)  # and we should learn that it has 4 elements"
   ]
  },
  {
   "cell_type": "markdown",
   "id": "emotional-cornwall",
   "metadata": {},
   "source": [
    "We now define a matrix with the following syntax:"
   ]
  },
  {
   "cell_type": "code",
   "execution_count": 86,
   "id": "unlikely-surgeon",
   "metadata": {},
   "outputs": [
    {
     "name": "stdout",
     "output_type": "stream",
     "text": [
      "[[ 1  1  1  1]\n",
      " [ 1 -1  1 -1]\n",
      " [ 2  1  2  2]\n",
      " [ 4  3  2  1]]\n",
      "(4, 4) 16 2\n"
     ]
    }
   ],
   "source": [
    "A = np.array([[1,1,1,1],[1,-1,1,-1],[2,1,2,2],[4,3,2,1]])\n",
    "print(A)\n",
    "print(A.shape,A.size,A.ndim)"
   ]
  },
  {
   "cell_type": "markdown",
   "id": "julian-oxide",
   "metadata": {},
   "source": [
    "The last print statement output A.shape, that is, each dimension in A, so we see that A is a 4x4-matrix.\n",
    "A.size gives the number of elements in A (16), and A.ndim=2 because it is a two-dimensional array (a matrix).\n",
    "\n",
    "A much used matrix is the identity matrix $I$. There is a function for it in numpy called *eye*.\n",
    "To produce the $5\\times 5$ identity matrix we simply type"
   ]
  },
  {
   "cell_type": "code",
   "execution_count": 87,
   "id": "generic-machinery",
   "metadata": {},
   "outputs": [
    {
     "name": "stdout",
     "output_type": "stream",
     "text": [
      "[[1. 0. 0. 0. 0.]\n",
      " [0. 1. 0. 0. 0.]\n",
      " [0. 0. 1. 0. 0.]\n",
      " [0. 0. 0. 1. 0.]\n",
      " [0. 0. 0. 0. 1.]]\n"
     ]
    }
   ],
   "source": [
    "I5 = np.eye(5)\n",
    "print(I5)"
   ]
  },
  {
   "cell_type": "markdown",
   "id": "integrated-handbook",
   "metadata": {},
   "source": [
    "One can also make *ndarrays* with more than two indices. \n",
    "\n",
    "Some useful functions are *zeros* and *ones* which produce ndarrays filled with 0's or 1's."
   ]
  },
  {
   "cell_type": "code",
   "execution_count": 88,
   "id": "intended-popularity",
   "metadata": {},
   "outputs": [
    {
     "name": "stdout",
     "output_type": "stream",
     "text": [
      "[[0. 0. 0. 0. 0.]\n",
      " [0. 0. 0. 0. 0.]\n",
      " [0. 0. 0. 0. 0.]\n",
      " [0. 0. 0. 0. 0.]\n",
      " [0. 0. 0. 0. 0.]] [1. 1. 1. 1. 1.]\n"
     ]
    }
   ],
   "source": [
    "N=5\n",
    "Zm = np.zeros((N,N))\n",
    "\n",
    "Ov = np.ones((N,))\n",
    "\n",
    "print(Zm,Ov)"
   ]
  },
  {
   "cell_type": "markdown",
   "id": "challenging-writer",
   "metadata": {},
   "source": [
    "If you need to make a matrix or vector of 0's having the same size as some other already defined matrix (vector), one can use "
   ]
  },
  {
   "cell_type": "code",
   "execution_count": 89,
   "id": "constant-personal",
   "metadata": {},
   "outputs": [
    {
     "name": "stdout",
     "output_type": "stream",
     "text": [
      "[[1. 1. 1. 1. 1.]\n",
      " [1. 1. 1. 1. 1.]\n",
      " [1. 1. 1. 1. 1.]\n",
      " [1. 1. 1. 1. 1.]\n",
      " [1. 1. 1. 1. 1.]] [0. 0. 0. 0. 0.]\n"
     ]
    }
   ],
   "source": [
    "Om = np.ones_like(Zm)\n",
    "Zv = np.zeros_like(Ov)\n",
    "print(Om,Zv)\n"
   ]
  },
  {
   "cell_type": "markdown",
   "id": "vulnerable-fishing",
   "metadata": {},
   "source": [
    "When constructing matrices it is sometimes useful to be able to specify diagonals and then let the rest of the matrix consist of zeros. The *diag*-function is useful"
   ]
  },
  {
   "cell_type": "code",
   "execution_count": 90,
   "id": "contained-impact",
   "metadata": {},
   "outputs": [
    {
     "name": "stdout",
     "output_type": "stream",
     "text": [
      "[[-2.  1.  0.  0.  0.]\n",
      " [ 1. -2.  1.  0.  0.]\n",
      " [ 0.  1. -2.  1.  0.]\n",
      " [ 0.  0.  1. -2.  1.]\n",
      " [ 0.  0.  0.  1. -2.]]\n"
     ]
    }
   ],
   "source": [
    "N=5\n",
    "ee=np.ones((N,)) # First define a vector with N ones\n",
    "T=-2*np.diag(ee) + np.diag(ee[1:],-1) + np.diag(ee[1:],1)\n",
    "print(T)\n"
   ]
  },
  {
   "cell_type": "markdown",
   "id": "independent-violation",
   "metadata": {},
   "source": [
    "This is the well-known \"second-derivative matrix\" used when numerically solving differential equations.\n",
    "The first argument to *diag* describes the elements to be placed on the diagonal, whereas the second (integer) argument points to which diagonal we talk about. The integer 0 corresponds to the main diagonal, -1 to the first subdiagonal and +1 to the first superdiagonal. The sub- an superdiagonals have one element less than the main diagonal.\n",
    "\n",
    "It is easy to solve systems $Ax=b$ with *numpy* once $A$ and $b$ have been defined. Using $A$ as above, and defining a vector $b$ we solve the system as follows:"
   ]
  },
  {
   "cell_type": "code",
   "execution_count": 91,
   "id": "included-minority",
   "metadata": {},
   "outputs": [
    {
     "name": "stdout",
     "output_type": "stream",
     "text": [
      "[-7.50000000e-02  2.37904934e-17  2.25000000e-01 -5.00000000e-02]\n"
     ]
    }
   ],
   "source": [
    "b = np.array([0.1,0.2,0.2,0.1])\n",
    "\n",
    "x = np.linalg.solve(A,b)\n",
    "print(x)"
   ]
  },
  {
   "cell_type": "markdown",
   "id": "acceptable-shade",
   "metadata": {},
   "source": [
    "We can also find eigenvalues and eigenvectors with numpy. There are several different functions with slightly different purposes. If, for instance, we just need eigenvalues and not the corresponding eigenvectors, we can write (with $T$ as above)"
   ]
  },
  {
   "cell_type": "code",
   "execution_count": 92,
   "id": "worst-dublin",
   "metadata": {},
   "outputs": [
    {
     "name": "stdout",
     "output_type": "stream",
     "text": [
      "[-3.73205081 -3.         -2.         -0.26794919 -1.        ]\n"
     ]
    }
   ],
   "source": [
    "lam = np.linalg.eigvals(T)\n",
    "print(lam)"
   ]
  },
  {
   "cell_type": "markdown",
   "id": "plastic-prompt",
   "metadata": {},
   "source": [
    "## Specifiy submatrices and extract elements\n",
    "\n",
    "In *ndarrays*, the indexing starts at 0 and ends at N-1 where N is the number of elements. If one needs to address the last element in an *ndarray*, one can use -1 as an index. "
   ]
  },
  {
   "cell_type": "code",
   "execution_count": 93,
   "id": "expected-advice",
   "metadata": {},
   "outputs": [
    {
     "name": "stdout",
     "output_type": "stream",
     "text": [
      "1\n",
      "5\n"
     ]
    }
   ],
   "source": [
    "V = np.array([1,2,3,4,5])\n",
    "print(V[0])\n",
    "print(V[-1])"
   ]
  },
  {
   "cell_type": "markdown",
   "id": "existing-summit",
   "metadata": {},
   "source": [
    "It is also many times useful to extract a large or small part of an array. If, say, we need the three middle elements (2,3,4) in V above, we write"
   ]
  },
  {
   "cell_type": "code",
   "execution_count": 94,
   "id": "medieval-integer",
   "metadata": {},
   "outputs": [
    {
     "name": "stdout",
     "output_type": "stream",
     "text": [
      "[2 3 4]\n"
     ]
    }
   ],
   "source": [
    "print( V[1:4])"
   ]
  },
  {
   "cell_type": "markdown",
   "id": "mysterious-graphics",
   "metadata": {},
   "source": [
    "so that generally one has $V[m:n]=[V[m],\\ldots,V[n-1]]^T$.\n",
    "Submatrices can be extracted in a similar way. One can omit the index m if m=0 and similarly, the highest index if it is the last."
   ]
  },
  {
   "cell_type": "code",
   "execution_count": 95,
   "id": "public-postcard",
   "metadata": {},
   "outputs": [
    {
     "name": "stdout",
     "output_type": "stream",
     "text": [
      "[1 2 3 4]\n",
      "[2 3 4 5] \n",
      "\n",
      "[[ 1.  0.]\n",
      " [-2.  1.]]\n"
     ]
    }
   ],
   "source": [
    "print(V[:4])\n",
    "print(V[1:],\"\\n\")\n",
    "print(T[1:3,2:4])"
   ]
  },
  {
   "cell_type": "markdown",
   "id": "comfortable-senegal",
   "metadata": {},
   "source": [
    "If for instance one is to use Gaussian elimination (LU-factorization) with pivoting, it is useful to be able to e.g. permute the ordering of the rows in a matrix, or to interchange some its rows.\n",
    "We illustrate this by an example."
   ]
  },
  {
   "cell_type": "code",
   "execution_count": 96,
   "id": "organic-meaning",
   "metadata": {},
   "outputs": [
    {
     "name": "stdout",
     "output_type": "stream",
     "text": [
      "[[ 1  1  1  1]\n",
      " [ 1 -1  1 -1]\n",
      " [ 2  1  2  2]\n",
      " [ 4  3  2  1]]\n"
     ]
    }
   ],
   "source": [
    "A = np.array([[1,1,1,1],[1,-1,1,-1],[2,1,2,2],[4,3,2,1]])\n",
    "print(A)"
   ]
  },
  {
   "cell_type": "markdown",
   "id": "fifth-attachment",
   "metadata": {},
   "source": [
    "Suppose we need to make a new matrix where we have interchanged the rows such that the last row of A is now to be the first and then the rows 0, 1, 2 of the original matrix. \n",
    "We define the \"permutation vector\" P"
   ]
  },
  {
   "cell_type": "code",
   "execution_count": 97,
   "id": "painted-newport",
   "metadata": {},
   "outputs": [],
   "source": [
    "P=np.array([3,0,1,2])"
   ]
  },
  {
   "cell_type": "markdown",
   "id": "suspended-monaco",
   "metadata": {},
   "source": [
    "and then we construct B as follows"
   ]
  },
  {
   "cell_type": "code",
   "execution_count": 98,
   "id": "together-mongolia",
   "metadata": {},
   "outputs": [
    {
     "name": "stdout",
     "output_type": "stream",
     "text": [
      "[[ 4  3  2  1]\n",
      " [ 1  1  1  1]\n",
      " [ 1 -1  1 -1]\n",
      " [ 2  1  2  2]]\n"
     ]
    }
   ],
   "source": [
    "B=A[P,:]\n",
    "print(B)"
   ]
  },
  {
   "cell_type": "markdown",
   "id": "hybrid-bosnia",
   "metadata": {},
   "source": [
    "## Multiplication of ndarrays\n",
    "It is important to understand how numpy perceives multiplication between ndarrays.\n",
    "If one has two arrays of the same shape, for instance two 4x4 matrices, one can use \\*, and this means **element-wise multiplication**. This is an operation which is not so much used in linear algebra, but still useful in some contexts. The same can be said about division. If we use / between two ndarrays of the same dimension we get element-wise division. We try this out, using A as above and defining a brand new B."
   ]
  },
  {
   "cell_type": "code",
   "execution_count": 99,
   "id": "dying-prerequisite",
   "metadata": {},
   "outputs": [
    {
     "name": "stdout",
     "output_type": "stream",
     "text": [
      "A=\n",
      " [[ 1  1  1  1]\n",
      " [ 1 -1  1 -1]\n",
      " [ 2  1  2  2]\n",
      " [ 4  3  2  1]] \n",
      "B=\n",
      " [[ 1  2  3  2]\n",
      " [ 2  1  3  3]\n",
      " [ 1 -1  2  4]\n",
      " [ 1  3  2  1]] \n",
      "\n",
      "A*B=\n",
      " [[ 1  2  3  2]\n",
      " [ 2 -1  3 -3]\n",
      " [ 2 -1  4  8]\n",
      " [ 4  9  4  1]]\n"
     ]
    }
   ],
   "source": [
    "B=np.array([[1,2,3,2],[2,1,3,3],[1,-1,2,4],[1,3,2,1]])\n",
    "print(\"A=\\n\",A,\"\\nB=\\n\",B,\"\\n\")\n",
    "print(\"A*B=\\n\",A*B)"
   ]
  },
  {
   "cell_type": "markdown",
   "id": "emerging-barbados",
   "metadata": {},
   "source": [
    "and we see that element-wise multiplication has been used, $(A*B)_{i,j}=A_{i,j}*B_{i,j}$. But as you probably know, this is an entirely different operation than matrix multiplication $A\\cdot B$. In order for matrix multiplication to be meaningful we need \n",
    "A to be $m\\times n$ and B should be $n\\times k$. This is results in $A\\cdot B$ being $m\\times k$. What we need to do in numpy is to use the operator @. \n",
    "We try with A and B since we should be OK when both are  $4\\times 4$."
   ]
  },
  {
   "cell_type": "code",
   "execution_count": 100,
   "id": "incorporated-capability",
   "metadata": {},
   "outputs": [
    {
     "name": "stdout",
     "output_type": "stream",
     "text": [
      "[[ 5  5 10 10]\n",
      " [-1 -3  0  2]\n",
      " [ 8  9 17 17]\n",
      " [13 12 27 26]]\n"
     ]
    }
   ],
   "source": [
    "print(A@B)"
   ]
  },
  {
   "cell_type": "markdown",
   "id": "artistic-bunch",
   "metadata": {},
   "source": [
    "We can also find powers of matrices whenever defined, for instance \n",
    " $A^2$ can be computed by means of the function *matrix_power*"
   ]
  },
  {
   "cell_type": "code",
   "execution_count": 101,
   "id": "august-services",
   "metadata": {},
   "outputs": [
    {
     "name": "stdout",
     "output_type": "stream",
     "text": [
      "[[ 8  4  6  3]\n",
      " [-2  0  0  3]\n",
      " [15  9 11  7]\n",
      " [15  6 13  6]]\n"
     ]
    }
   ],
   "source": [
    "C = np.linalg.matrix_power(A,2)\n",
    "print(C)"
   ]
  },
  {
   "cell_type": "markdown",
   "id": "regular-duration",
   "metadata": {},
   "source": [
    "One could also imagine to put the power equal to -1 for the inverse, but there is a dedication function\n",
    "*inv* for this purpose"
   ]
  },
  {
   "cell_type": "code",
   "execution_count": 102,
   "id": "martial-prophet",
   "metadata": {},
   "outputs": [
    {
     "name": "stdout",
     "output_type": "stream",
     "text": [
      "[[-2.75000000e+00 -2.50000000e-01  1.00000000e+00  5.00000000e-01]\n",
      " [ 2.00000000e+00 -0.00000000e+00 -1.00000000e+00 -3.17206578e-17]\n",
      " [ 3.25000000e+00  7.50000000e-01 -1.00000000e+00 -5.00000000e-01]\n",
      " [-1.50000000e+00 -5.00000000e-01  1.00000000e+00  3.96508223e-17]]\n"
     ]
    }
   ],
   "source": [
    "C=np.linalg.inv(A)\n",
    "print(C)"
   ]
  },
  {
   "cell_type": "markdown",
   "id": "quantitative-attraction",
   "metadata": {},
   "source": [
    "If we need to compute the standard inner product between two vectors of the same length, say\n",
    " $u$ and $v$, we can write this as a ``matrix multiplication'' $u^Tv$ if we consider $u$ and $v$ as $n\\times 1$-matrices. Then it is useful to invoke the function *transpose*, we can write it like this"
   ]
  },
  {
   "cell_type": "code",
   "execution_count": 103,
   "id": "usual-turkish",
   "metadata": {},
   "outputs": [
    {
     "name": "stdout",
     "output_type": "stream",
     "text": [
      "10\n"
     ]
    }
   ],
   "source": [
    "u=np.array([1,2,3,4])\n",
    "v=np.array([1,1,1,1])\n",
    "print(u.transpose()@v)"
   ]
  },
  {
   "cell_type": "markdown",
   "id": "moving-relaxation",
   "metadata": {},
   "source": [
    "This \"method\" called transpose is rather handy, if for instance the transpose of matrix  A is needed, we can obtain it as A.transpose()."
   ]
  },
  {
   "cell_type": "markdown",
   "id": "scientific-fruit",
   "metadata": {},
   "source": [
    "## Some additional useful functions\n",
    "The two functions linspace and logspace are useful for example when generating points for a plot.\n",
    "linspace(a,b,N) defines values from (including) a to (including) b with equal distance (b-a)/N between two consecutive points."
   ]
  },
  {
   "cell_type": "code",
   "execution_count": 104,
   "id": "comparative-limitation",
   "metadata": {},
   "outputs": [
    {
     "name": "stdout",
     "output_type": "stream",
     "text": [
      "[0.  0.1 0.2 0.3 0.4 0.5 0.6 0.7 0.8 0.9 1. ]\n"
     ]
    }
   ],
   "source": [
    "print(np.linspace(0,1,11))"
   ]
  },
  {
   "cell_type": "markdown",
   "id": "marked-sterling",
   "metadata": {},
   "source": [
    "Here we have defined an array with values $\\frac{k}{10},\\ k=0,\\ldots,10$. Similarly, we can make a vector whose elements have equal logarithmic distance between $10^m$ and $10^n$."
   ]
  },
  {
   "cell_type": "code",
   "execution_count": 105,
   "id": "charming-elite",
   "metadata": {},
   "outputs": [
    {
     "name": "stdout",
     "output_type": "stream",
     "text": [
      "[0.0001 0.001  0.01   0.1   ]\n"
     ]
    }
   ],
   "source": [
    "print(np.logspace(-4, -1, 4))"
   ]
  },
  {
   "cell_type": "markdown",
   "id": "better-ambassador",
   "metadata": {},
   "source": [
    "The 10-logarithm of these points have equal distances."
   ]
  },
  {
   "cell_type": "markdown",
   "id": "described-blame",
   "metadata": {},
   "source": [
    "Standard mathematical functions such as $\\sin x$, $\\cos x$, $\\log x$, $\\exp(x)$ etc exist in several different modules, including numpy, so they can be used when prefixed with np.\n",
    "Let us plot the sin-function just to check it out."
   ]
  },
  {
   "cell_type": "code",
   "execution_count": 108,
   "id": "electronic-medicaid",
   "metadata": {},
   "outputs": [
    {
     "data": {
      "image/png": "[encoded data removed]",
      "text/plain": [
       "<Figure size 640x480 with 1 Axes>"
      ]
     },
     "metadata": {},
     "output_type": "display_data"
    }
   ],
   "source": [
    "import matplotlib.pyplot as plt\n",
    "X = np.linspace(0, 2*np.pi, 100)\n",
    "\n",
    "plt.plot(np.sin(X))\n",
    "plt.show()"
   ]
  },
  {
   "cell_type": "markdown",
   "id": "hungry-morrison",
   "metadata": {},
   "source": [
    "## Dynamical arrays\n",
    "In many cases when we do calculations on a problem, we know in advance exactly how big the dimension is, i.e. how many array cells we need. In this case, and especially for large arrays, it is a good idea to allocate the whole array a priori rather than increasing the size of the array step by step.\n",
    "Sometimes this is done by defing a zero-filled array and later overwrite the zeros with other values when needed. The you use the *zeros* function. What you should **not** do (as a rule) is to expand an array dynamically with one cell after the other if the total size of the array is known from the beginning of the program. This leads to a slower code.\n",
    "\n",
    "But in some cases one actually does not know how big the array is going to be a priori. In this case we may use a function called *append*. We demonstrate it below."
   ]
  },
  {
   "cell_type": "code",
   "execution_count": null,
   "id": "danish-certification",
   "metadata": {},
   "outputs": [
    {
     "name": "stdout",
     "output_type": "stream",
     "text": [
      "[0.]\n",
      "[0. 1.]\n",
      "[0. 1. 4.]\n",
      "[0. 1. 4. 9.]\n",
      "[ 0.  1.  4.  9. 16.]\n"
     ]
    }
   ],
   "source": [
    "H=np.array([])\n",
    "N=5\n",
    "for n in range(N):\n",
    "    H=np.append(H,n**2)\n",
    "    print(H)"
   ]
  },
  {
   "cell_type": "markdown",
   "id": "loose-symbol",
   "metadata": {},
   "source": [
    "This is a simple, but badly chosen example because we knew from the start that the size would be precisely N=5, so we could have allocated a zero-filled array from the beginning. But in more complex programs, for instance a variable stepsize solver for differential equations, it would be impossible to say from the start how many time steps would be needed and this would define the size of the array.\n"
   ]
  },
  {
   "cell_type": "markdown",
   "id": "certain-selection",
   "metadata": {},
   "source": [
    "## Important principle when programming with numpy\n",
    "Part of the reason for making such dedicated tools for computations is to make the programming easy and fast to do. An crucial mistake that beginners sometimes do is to use **for** loops when it is not necessary. It is a good rule (perhaps with some exceptions) to avoid to write **for** loops where the index runs over the elements in an array. Usually, it would then be functions or constructions available to replace such loops. You already saw the functions *zeros*, *ones* and *diag*. These could have been replaced by **for** loops, but it would require more code and be significantly slower. Of course, both knowledge and experience help for knowing which functions are available for these types of operations.\n",
    "\n",
    "\n",
    "## A somewhat advancerd example\n",
    "Suppose we want to solve the Poisson equation in two dimensions on a square, say $[0,1]\\times [0,1]$, that is\n",
    "\n",
    "$\\displaystyle{\n",
    "  \\frac{\\partial^2 u}{\\partial x^2} +  \\frac{\\partial^2 u}{\\partial y^2} = f(x,y)},\\quad\n",
    "  x\\in(0,1),\\ y\\in(0,1),\n",
    "$\n",
    "\n",
    "where we assume that $u(x,y)=0$ on the boundary of this square.\n",
    "Vi apply a numerical method, and we use the celebrated five-point formula. One first constructs a\n",
    "grid with lines $x_m=m/N,\\;m=0,\\ldots,N$ and $y_n=n/N,\\,n=0,\\ldots,N$ where $N$ is a chosen integer. We let the interval size be $h=1/N$.\n",
    "In the point $(x_m,y_n)$ we define $U_{m,n}\\approx u(x_m,y_n)$ and we approximate the Poisson equation in such a point using the formula \n",
    "\n",
    "$\n",
    "U_{m,n+1}+U_{m,n-1}+U_{m+1,n}+U_{m-1,n}-4\\,U_{m,n} = h^2\\, f(x_m,y_n) =: h^2 f_{m,n}\n",
    "$\n",
    "\n",
    "This is a linear equation that we can apply for all $(m,n),\\ 1\\leq m\\leq N-1,\\ 1\\leq n\\leq N-1$, so altogether $(N-1)^2$ equations and unknowns. We can now enumerate all these points in the square line by line, \n",
    "og stack all $U_{mn}$ into a long vector with $(N-1)^2$ elements. Then the left hand side of the above equation can be represented by a $(N-1)^2\\times(N-1)^2$-matrix $A$. \n",
    "This is so called penta diagonal (5-diagonal) for all elements are zero except: $A_{i,i}=-4$, $A_{i,i+1}=A_{i+1,i}=1$ and\n",
    "$A_{i,i+N-1}=A_{i+N-1,1}=1$. If one interprets the 5-point formula as the sum of centered differences for the second derivative in the $x$- og $y$-retning respectively, one can write the matrix as a tensor product\n",
    "\n",
    "$$\n",
    "    A = I\\otimes B + B\\otimes I\n",
    "$$\n",
    "\n",
    "where $B$ is the $(N-1)\\times(N-1)$-matrix for the second derivative, i.e. $B_{i,i}=-2$, $B_{i,i+1}=B_{i+1,i}=1$, while $I$ is the $(N-1)\\times (N-1)$ identity matrix.\n",
    "In numpy one has the function *kron* which computes the tensor product.  \n",
    "\n",
    "We can therefore generate the matrix $A$ as follows."
   ]
  },
  {
   "cell_type": "code",
   "execution_count": null,
   "id": "federal-edwards",
   "metadata": {},
   "outputs": [
    {
     "name": "stdout",
     "output_type": "stream",
     "text": [
      "(1521, 1521)\n"
     ]
    }
   ],
   "source": [
    "N=40\n",
    "B=np.diag(-2*np.ones((N-1,))) + np.diag(np.ones((N-2,)),1) + np.diag(np.ones((N-2,)),-1)\n",
    "IM = np.eye(N-1)\n",
    "A = np.kron(B,IM) + np.kron(IM,B)\n",
    "print(A.shape)"
   ]
  },
  {
   "cell_type": "markdown",
   "id": "productive-throat",
   "metadata": {},
   "source": [
    "We have to choose a function $f(x,y)$ as well. But before we proceed, we will introduce another useful function from numpy, namely *meshgrid*. This fits perfectly when working with grids.\n",
    "If we define, for vectors X og Y which contain the grid values in the $x$- and $y$ directions"
   ]
  },
  {
   "cell_type": "code",
   "execution_count": null,
   "id": "exceptional-surveillance",
   "metadata": {},
   "outputs": [
    {
     "name": "stdout",
     "output_type": "stream",
     "text": [
      "[0.   0.25 0.5  0.75 1.  ] [0.   0.25 0.5  0.75 1.  ]\n"
     ]
    }
   ],
   "source": [
    "X = np.linspace(0,1,5)\n",
    "Y = np.linspace(0,1,5)\n",
    "print(X,Y)"
   ]
  },
  {
   "cell_type": "markdown",
   "id": "naked-organ",
   "metadata": {},
   "source": [
    "we can introduce 2-dimensional arrays Xv og Yv which represent the whole grid and which keeps the $x$ and $y$ values for the whole grid respectively. We try, and then you will understand"
   ]
  },
  {
   "cell_type": "code",
   "execution_count": null,
   "id": "completed-warner",
   "metadata": {},
   "outputs": [
    {
     "name": "stdout",
     "output_type": "stream",
     "text": [
      "[[0.   0.25 0.5  0.75 1.  ]\n",
      " [0.   0.25 0.5  0.75 1.  ]\n",
      " [0.   0.25 0.5  0.75 1.  ]\n",
      " [0.   0.25 0.5  0.75 1.  ]\n",
      " [0.   0.25 0.5  0.75 1.  ]] \n",
      "\n",
      " [[0.   0.   0.   0.   0.  ]\n",
      " [0.25 0.25 0.25 0.25 0.25]\n",
      " [0.5  0.5  0.5  0.5  0.5 ]\n",
      " [0.75 0.75 0.75 0.75 0.75]\n",
      " [1.   1.   1.   1.   1.  ]]\n"
     ]
    }
   ],
   "source": [
    "Xv, Yv = np.meshgrid(X,Y)\n",
    "print(Xv,\"\\n\\n\",Yv)"
   ]
  },
  {
   "cell_type": "markdown",
   "id": "roman-fiction",
   "metadata": {},
   "source": [
    "There are at least two reasons why this is a smart thing to do. One is that it is now easy to define functions on the grid using \"element-wise operations\" on Xv and Yv, let us say that we need to represent the function\n",
    " $x^2+y^2$, then we can write"
   ]
  },
  {
   "cell_type": "code",
   "execution_count": null,
   "id": "prospective-arrest",
   "metadata": {},
   "outputs": [],
   "source": [
    "F = Xv*Xv + Yv*Yv"
   ]
  },
  {
   "cell_type": "markdown",
   "id": "based-currency",
   "metadata": {},
   "source": [
    "and we have defined $F_{m,n}= X_m^2+Y_n^2$ for all $m$ and $n$. \n",
    "The second reason that this is smart is that there are several functions in the matplotlib library which take such 2-dimensional arrays as input for plotting, this is the case for instance for the surface plot function \n",
    "*ax.plot_surface*. \n",
    "\n",
    "Another useful function is the *reshape* function used to change the shape of an array without changing the data it contains. In the example we just discussed, we saw that it can be useful to represent the unknown U both as a two dimensional array, but also unrolled as a long vector. To go between the two representations, we can use *reshape*. Let us illustrate the use through an example. We first define a long vector with the *arange* function from numpy that can make sequences of integers. In its simplest form:"
   ]
  },
  {
   "cell_type": "code",
   "execution_count": null,
   "id": "precise-aquatic",
   "metadata": {},
   "outputs": [
    {
     "name": "stdout",
     "output_type": "stream",
     "text": [
      "[ 0  1  2  3  4  5  6  7  8  9 10 11 12 13 14 15 16 17 18 19 20 21 22 23\n",
      " 24]\n"
     ]
    }
   ],
   "source": [
    "V = np.arange(25)\n",
    "print(V)"
   ]
  },
  {
   "cell_type": "markdown",
   "id": "detected-pharmacy",
   "metadata": {},
   "source": [
    "This clearly has 25 elements, so we change it into a $5\\times 5$ matrix with *reshape*"
   ]
  },
  {
   "cell_type": "code",
   "execution_count": null,
   "id": "cultural-restoration",
   "metadata": {},
   "outputs": [
    {
     "name": "stdout",
     "output_type": "stream",
     "text": [
      "[[ 0  1  2  3  4]\n",
      " [ 5  6  7  8  9]\n",
      " [10 11 12 13 14]\n",
      " [15 16 17 18 19]\n",
      " [20 21 22 23 24]]\n"
     ]
    }
   ],
   "source": [
    "M = np.reshape(V,(5,5))\n",
    "print(M)"
   ]
  },
  {
   "cell_type": "markdown",
   "id": "running-corps",
   "metadata": {},
   "source": [
    "So here we reproduced the same values row-wise in a matrix. If we were to do it column-wise instead, we could have used an additional argument to *reshape*"
   ]
  },
  {
   "cell_type": "code",
   "execution_count": null,
   "id": "engaged-swiss",
   "metadata": {},
   "outputs": [
    {
     "name": "stdout",
     "output_type": "stream",
     "text": [
      "[[ 0  5 10 15 20]\n",
      " [ 1  6 11 16 21]\n",
      " [ 2  7 12 17 22]\n",
      " [ 3  8 13 18 23]\n",
      " [ 4  9 14 19 24]]\n"
     ]
    }
   ],
   "source": [
    "M1 = np.reshape(V,(5,5),'F')\n",
    "print(M1)"
   ]
  },
  {
   "cell_type": "markdown",
   "id": "39048716",
   "metadata": {},
   "source": [
    "Finally, we produce a surface plot of the computed solution to the Poisson equation"
   ]
  },
  {
   "cell_type": "code",
   "execution_count": null,
   "id": "differential-greeting",
   "metadata": {},
   "outputs": [
    {
     "name": "stdout",
     "output_type": "stream",
     "text": [
      "(39, 39)\n"
     ]
    }
   ],
   "source": [
    "h=1./N\n",
    "X=np.linspace(0,1,N+1)\n",
    "Y=np.linspace(0,1,N+1)\n",
    "Xv, Yv = np.meshgrid(X,Y)\n",
    "bm = h**2*(-np.sin(np.pi*Xv[1:N,1:N])*np.sin(np.pi*Yv[1:N,1:N]))\n",
    "b=np.reshape(bm,((N-1)**2,))\n",
    "Z=np.linalg.solve(A,b)\n",
    "U=np.reshape(Z,(N-1,N-1))\n",
    "\n",
    "print(U.shape)\n"
   ]
  },
  {
   "cell_type": "code",
   "execution_count": null,
   "id": "central-reviewer",
   "metadata": {},
   "outputs": [
    {
     "data": {
      "image/png": "[encoded data removed]",
      "text/plain": [
       "<Figure size 1000x1000 with 1 Axes>"
      ]
     },
     "metadata": {},
     "output_type": "display_data"
    }
   ],
   "source": [
    "import matplotlib.pyplot as plt\n",
    "from matplotlib import cm\n",
    "from matplotlib.ticker import LinearLocator\n",
    "\n",
    "Ub=np.zeros((N+1,N+1))\n",
    "Ub[1:N,1:N] = U\n",
    "\n",
    "fig, ax = plt.subplots(subplot_kw={\"projection\": \"3d\"})\n",
    "surf = ax.plot_surface(Xv, Yv, Ub, cmap=cm.coolwarm,\n",
    "                       linewidth=0, antialiased=False)\n",
    "fig.set_size_inches(10, 10)\n",
    "plt.show()\n"
   ]
  },
  {
   "cell_type": "code",
   "execution_count": null,
   "id": "professional-sellers",
   "metadata": {},
   "outputs": [],
   "source": []
  }
 ],
 "metadata": {
  "kernelspec": {
   "display_name": "Python 3 (ipykernel)",
   "language": "python",
   "name": "python3"
  },
  "language_info": {
   "codemirror_mode": {
    "name": "ipython",
    "version": 3
   },
   "file_extension": ".py",
   "mimetype": "text/x-python",
   "name": "python",
   "nbconvert_exporter": "python",
   "pygments_lexer": "ipython3",
   "version": "3.10.8"
  }
 },
 "nbformat": 4,
 "nbformat_minor": 5
}
