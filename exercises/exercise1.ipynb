{
 "cells": [
  {
   "cell_type": "markdown",
   "id": "023ed9fd",
   "metadata": {},
   "source": [
    "# Exercise 1 - TMA4130 - Mathematics 4N\n",
    "\n",
    "In this exercise you are supposed to write python code as instructed. All problems are explained in the markdown cells, and for each problem there is a code cell below where you solve the problems.\n",
    "So you complete your answers in a copy of THIS notebook and upload the ipynb-file through the ovsys system when you are done.\n",
    "\n",
    "All answers should be given in the code cells, and you can document what you do in inline comments (prefixed by # as usual in Python code).\n",
    "\n",
    "### Problem 1 (Linear algebra)\n",
    "\n",
    "#### (a) \n",
    "Define the ndarray's V and W that contain the vectors\n",
    "\n",
    "$$\n",
    "V = [1, -1, 2, 2],\\quad W = [2,0,1,-1]\n",
    "$$\n",
    "\n",
    "using the function np.array.\n",
    "\n",
    "#### (b)\n",
    "Have Python compute $V+W$, $V-W$, $V^T W$\n",
    "\n",
    "#### (c)\n",
    "Define the matrix below as a ndarray by using np.array\n",
    "$$\n",
    "   A=\\left[ \\begin{array}{rrrr} 1 & -1 & 0 & 1\\\\ 2 & 0 & -1 & 1 \\\\ 1&1&1&1\\\\ -1 &2 &1 &1\\end{array}\\right] \n",
    "$$\n",
    "\n",
    "#### (d)\n",
    "Find the rank of $A$ by using np.linalg.matrix_rank, and if possible, solve the system $A x = V$ with respect to $x$ where $V$ is as defined in (a).\n",
    "\n",
    "#### (e)\n",
    "Compute the eigenvalues of the matrix $A$ by np.linalg.eig\n"
   ]
  },
  {
   "cell_type": "code",
   "execution_count": 17,
   "id": "867ff560",
   "metadata": {},
   "outputs": [],
   "source": [
    "# Imports for problem 1\n",
    "import numpy as np"
   ]
  },
  {
   "cell_type": "code",
   "execution_count": 18,
   "id": "ed079c15",
   "metadata": {},
   "outputs": [
    {
     "name": "stdout",
     "output_type": "stream",
     "text": [
      "V=[ 1 -1  2  2]\n",
      "W=[ 2  0  1 -1]\n"
     ]
    }
   ],
   "source": [
    "# Problem 1a\n",
    "V = np.array([1, -1, 2, 2])\n",
    "W = np.array([2, 0, 1, -1])\n",
    "\n",
    "print(f\"V={V}\\nW={W}\")"
   ]
  },
  {
   "cell_type": "code",
   "execution_count": 19,
   "id": "e3d78e94",
   "metadata": {},
   "outputs": [
    {
     "name": "stdout",
     "output_type": "stream",
     "text": [
      "V + W=[ 3 -1  3  1]\n",
      "V - W=[-1 -1  1  3]\n",
      "V^TW=2\n"
     ]
    }
   ],
   "source": [
    "# Problem 1b\n",
    "U = V + W\n",
    "T = V - W\n",
    "VTW = np.matmul(V.T, W)\n",
    "\n",
    "print(f\"V + W={U}\\nV - W={T}\\nV^TW={VTW}\")"
   ]
  },
  {
   "cell_type": "code",
   "execution_count": 20,
   "id": "0ac73888",
   "metadata": {},
   "outputs": [
    {
     "name": "stdout",
     "output_type": "stream",
     "text": [
      "A = [[ 1 -1  0  1]\n",
      " [ 2  0 -1  1]\n",
      " [ 1  1  1  1]\n",
      " [-1  2  1  1]]\n"
     ]
    }
   ],
   "source": [
    "# Problem 1c\n",
    "A = np.array((\n",
    "    [1, -1, 0, 1],\n",
    "    [2, 0, -1, 1],\n",
    "    [1, 1, 1, 1],\n",
    "    [-1, 2, 1, 1]\n",
    "))\n",
    "\n",
    "print(f\"A = {A}\")"
   ]
  },
  {
   "cell_type": "code",
   "execution_count": 21,
   "id": "151e8741",
   "metadata": {},
   "outputs": [
    {
     "name": "stdout",
     "output_type": "stream",
     "text": [
      "rank = 4\n",
      "x = [-0.14285714 -0.28571429  1.57142857  0.85714286]\n"
     ]
    }
   ],
   "source": [
    "# Problem 1d\n",
    "rank = np.linalg.matrix_rank(A)\n",
    "x = np.linalg.solve(A, V)\n",
    "\n",
    "print(f\"rank = {rank}\")\n",
    "print(f\"x = {x}\")"
   ]
  },
  {
   "cell_type": "code",
   "execution_count": 22,
   "id": "ad61bf3d",
   "metadata": {},
   "outputs": [
    {
     "name": "stdout",
     "output_type": "stream",
     "text": [
      "EigResult(eigenvalues=array([-0.1945968+1.70058547j, -0.1945968-1.70058547j,\n",
      "        2.3891936+0.j        ,  1.       +0.j        ]), eigenvectors=array([[ 0.23371222+0.49347657j,  0.23371222-0.49347657j,\n",
      "        -0.29027885+0.j        , -0.42640143+0.j        ],\n",
      "       [ 0.5803608 +0.j        ,  0.5803608 -0.j        ,\n",
      "        -0.17129671+0.j        ,  0.21320072+0.j        ],\n",
      "       [ 0.04233064-0.19205792j,  0.04233064+0.19205792j,\n",
      "        -0.74584694+0.j        , -0.85280287+0.j        ],\n",
      "       [-0.53803016-0.19205792j, -0.53803016+0.19205792j,\n",
      "        -0.57455023+0.j        ,  0.21320072+0.j        ]]))\n"
     ]
    }
   ],
   "source": [
    "# Problem 1e\n",
    "print(np.linalg.eig(A))"
   ]
  },
  {
   "cell_type": "markdown",
   "id": "41f4fd8c",
   "metadata": {},
   "source": [
    "### Problem 2 (plot a function)\n",
    "\n",
    "#### (a)\n",
    "Let $P$ be a ndarray of distinct (different) values. As an example, generate $P=[0,0.1,0.2,...,0.9,1]$ by using the numpy function np.linspace.\n",
    "\n",
    "#### (b)\n",
    "Let us assume that the ndarray $P$ in (a) has 3 elements always with distinct values.\n",
    "We define the function\n",
    "\n",
    "$$\n",
    "     L_1(x) = \\frac{(x-P[0])(x-P[2])}{(P[1]-P[0])(P[1]-P[2])}\n",
    "$$\n",
    "\n",
    "Make a function L1(x,P) which computes this. Make it so that if x isn't **one** number, but in itself a ndarray with $m+1$ values, $x=[x_0, x_1, \\ldots,x_m]$, the function will return a ndarray consisting of\n",
    "$[L_1(x_0), L_1(x_1),\\ldots,L_1(x_m)]$. Hint: Don't use for-loops.\n",
    "Test the function with $P=[1,2,3]$ and find the value of $L_1(x)$ for 50 values of $x$ between 0.5 and 3.5.\n",
    "\n",
    "#### (c)\n",
    "Import the module matplotlib.pyplot and plot $L_1(x)$ vs $x$ on the interval $x\\in [0.5, 3.5]$\n",
    "\n",
    "#### (d)\n",
    "Repeat (b) and (c) for the functions\n",
    "\n",
    "$$\n",
    " L_0(x) = \\frac{(x-P[1])(x-P[2])}{(P[0]-P[1])(P[0]-P[2])}\\qquad\\text{and}\\qquad\n",
    "  L_2(x) = \\frac{(x-P[0])(x-P[1])}{(P[2]-P[0])(P[2]-P[1])}\n",
    "$$\n",
    "\n"
   ]
  },
  {
   "cell_type": "code",
   "execution_count": 23,
   "id": "bc7a597a",
   "metadata": {},
   "outputs": [],
   "source": [
    "# Imports for problem 2\n",
    "import matplotlib.pyplot as plt"
   ]
  },
  {
   "cell_type": "code",
   "execution_count": 24,
   "id": "70a8d618",
   "metadata": {},
   "outputs": [
    {
     "name": "stdout",
     "output_type": "stream",
     "text": [
      "P = [0.5        0.56122449 0.62244898 0.68367347 0.74489796 0.80612245\n",
      " 0.86734694 0.92857143 0.98979592 1.05102041 1.1122449  1.17346939\n",
      " 1.23469388 1.29591837 1.35714286 1.41836735 1.47959184 1.54081633\n",
      " 1.60204082 1.66326531 1.7244898  1.78571429 1.84693878 1.90816327\n",
      " 1.96938776 2.03061224 2.09183673 2.15306122 2.21428571 2.2755102\n",
      " 2.33673469 2.39795918 2.45918367 2.52040816 2.58163265 2.64285714\n",
      " 2.70408163 2.76530612 2.82653061 2.8877551  2.94897959 3.01020408\n",
      " 3.07142857 3.13265306 3.19387755 3.25510204 3.31632653 3.37755102\n",
      " 3.43877551 3.5       ]\n"
     ]
    }
   ],
   "source": [
    "# Problem 2a\n",
    "P = np.linspace(0.5, 3.5, 50)\n",
    "print(f\"P = {P}\")"
   ]
  },
  {
   "cell_type": "code",
   "execution_count": 25,
   "id": "9a5a6cfb",
   "metadata": {},
   "outputs": [
    {
     "name": "stdout",
     "output_type": "stream",
     "text": [
      "y = [  -50.36111111  -551.25       -1585.69444444]\n"
     ]
    }
   ],
   "source": [
    "# Problem 2b\n",
    "L1 = lambda x, P : np.divide(\n",
    "    np.multiply(x - P[0], x-P[2]), \n",
    "    np.multiply(P[1] - P[0], P[1] - P[2])\n",
    ") # Lambda function that calculates a value given two numpy arrays x and P\n",
    "x = np.array(list(range(1, 4))) # List with numbers 1, 2, 3\n",
    "\n",
    "y = L1(x, P)\n",
    "print(f\"y = {y}\")"
   ]
  },
  {
   "cell_type": "code",
   "execution_count": 26,
   "id": "1c2f9893",
   "metadata": {},
   "outputs": [
    {
     "data": {
      "image/png": "[encoded data removed]",
      "text/plain": [
       "<Figure size 640x480 with 1 Axes>"
      ]
     },
     "metadata": {},
     "output_type": "display_data"
    }
   ],
   "source": [
    "# Problem 2c\n",
    "def plot(x: np.array, P: np.array, func: 'function', name: str) -> None:\n",
    "    plt.plot(x, func(x, P))\n",
    "    plt.title(name)\n",
    "    plt.grid()\n",
    "    plt.show()\n",
    "    \n",
    "x = P\n",
    "plot(x=x, P=P, func=L1, name=\"L1\")"
   ]
  },
  {
   "cell_type": "code",
   "execution_count": 27,
   "id": "edb881c1",
   "metadata": {},
   "outputs": [],
   "source": [
    "# Problem 2d\n",
    "# Defining L0 and L2\n",
    "L0 = lambda x, P: np.divide(\n",
    "    np.multiply(x - P[1], x - P[2]),\n",
    "    np.multiply(P[0] - P[1], P[0] - P[2])\n",
    ")\n",
    "\n",
    "L2 = lambda x, P: np.divide(\n",
    "    np.multiply(x - P[0], x - P[1]),\n",
    "    np.multiply(P[2] - P[0], P[2] - P[1])\n",
    ")"
   ]
  },
  {
   "cell_type": "code",
   "execution_count": 28,
   "id": "80ba60cd",
   "metadata": {},
   "outputs": [
    {
     "data": {
      "image/png": "[encoded data removed]",
      "text/plain": [
       "<Figure size 640x480 with 1 Axes>"
      ]
     },
     "metadata": {},
     "output_type": "display_data"
    },
    {
     "data": {
      "image/png": "[encoded data removed]",
      "text/plain": [
       "<Figure size 640x480 with 1 Axes>"
      ]
     },
     "metadata": {},
     "output_type": "display_data"
    }
   ],
   "source": [
    "plot(x=x, P=P, func=L0, name=\"L0\")\n",
    "plot(x=x, P=P, func=L2, name=\"L2\")"
   ]
  },
  {
   "cell_type": "markdown",
   "id": "e2df6cb5",
   "metadata": {},
   "source": [
    "### Problem 3  - 4N only\n",
    "\n",
    "The function below extends the function implemented in Problem 2 above to a general amount of points. The function takes in input a 1D-array of points $x=x_0,\\ldots,x_m$ that serves for visualization purposes (as above) and compute functions $L_i(x)$ (different from the above ones) for every point $P_i$ in the 1D-array of points $P=P_0,\\ldots,P_n$. The function outputs a 2D-array `results` of size `nxm` where `results[i,j]`$=L_i(x_j)$. The code compiles without errors, but there are two errors in the code that you have to spot. This time the for loops are made explicit for didactic purposes. Hint: for three points you should recover the results above. It can be useful to plot the various $L_i(x)$ as done in Problem 2.  "
   ]
  },
  {
   "cell_type": "code",
   "execution_count": 29,
   "id": "cc27969c",
   "metadata": {},
   "outputs": [],
   "source": [
    "def L(xx, P):\n",
    "\n",
    "    results = np.ones((P.size, xx.size))\n",
    "\n",
    "    for i in range(results.shape[0]):\n",
    "        for j in range(results.shape[1]):\n",
    "            for k in range(results.shape[0]):\n",
    "                if k != i:\n",
    "                    results[i, j] *= (xx[j] - P[k])/(P[i]-P[k])\n",
    "\n",
    "    return results"
   ]
  },
  {
   "cell_type": "code",
   "execution_count": 30,
   "id": "737a34df",
   "metadata": {},
   "outputs": [
    {
     "name": "stdout",
     "output_type": "stream",
     "text": [
      "[[ 1. -0.  0. ... -0.  0. -0.]\n",
      " [ 0.  1. -0. ...  0. -0.  0.]\n",
      " [-0.  0.  1. ... -0.  0. -0.]\n",
      " ...\n",
      " [ 0. -0.  0. ...  1. -0.  0.]\n",
      " [-0.  0. -0. ...  0.  1. -0.]\n",
      " [ 0. -0.  0. ... -0.  0.  1.]]\n"
     ]
    }
   ],
   "source": [
    "L_matrix = L(x, P)\n",
    "print(L_matrix)"
   ]
  }
 ],
 "metadata": {
  "kernelspec": {
   "display_name": "Python 3 (ipykernel)",
   "language": "python",
   "name": "python3"
  },
  "language_info": {
   "codemirror_mode": {
    "name": "ipython",
    "version": 3
   },
   "file_extension": ".py",
   "mimetype": "text/x-python",
   "name": "python",
   "nbconvert_exporter": "python",
   "pygments_lexer": "ipython3",
   "version": "3.10.8"
  }
 },
 "nbformat": 4,
 "nbformat_minor": 5
}
