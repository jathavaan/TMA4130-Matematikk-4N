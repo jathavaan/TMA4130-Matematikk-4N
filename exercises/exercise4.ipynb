{
 "cells": [
  {
   "cell_type": "markdown",
   "metadata": {},
   "source": [
    "# Exercise 4\n",
    "## Problem 1 - Bisection method\n",
    "### a)"
   ]
  },
  {
   "cell_type": "code",
   "execution_count": 62,
   "metadata": {},
   "outputs": [],
   "source": [
    "import numpy as np\n",
    "from math import pow\n",
    "import matplotlib.pyplot as plt"
   ]
  },
  {
   "cell_type": "code",
   "execution_count": 63,
   "metadata": {},
   "outputs": [],
   "source": [
    "# Constants\n",
    "FIGURE_SIDE: int = 5"
   ]
  },
  {
   "cell_type": "code",
   "execution_count": 64,
   "metadata": {},
   "outputs": [],
   "source": [
    "# Definitions\n",
    "f: 'function' = lambda x: (1 - pow(3, x)) * pow(x, 2) + 4 * (x - 1) * pow(3, x) + 4 * (1 - x)\n",
    "a: float = -2\n",
    "b: float = 3\n",
    "interval: np.ndarray = np.linspace(a, b, 1000)"
   ]
  },
  {
   "cell_type": "code",
   "execution_count": 65,
   "metadata": {},
   "outputs": [
    {
     "name": "stderr",
     "output_type": "stream",
     "text": [
      "No artists with labels found to put in legend.  Note that artists whose label start with an underscore are ignored when legend() is called with no argument.\n"
     ]
    },
    {
     "ename": "TypeError",
     "evalue": "only length-1 arrays can be converted to Python scalars",
     "output_type": "error",
     "traceback": [
      "\u001b[1;31m---------------------------------------------------------------------------\u001b[0m",
      "\u001b[1;31mTypeError\u001b[0m                                 Traceback (most recent call last)",
      "\u001b[1;32mc:\\Users\\jatha\\Code\\NTNU\\TMA4130-Matematikk-4N\\exercises\\exercise4.ipynb Cell 5\u001b[0m line \u001b[0;36m3\n\u001b[0;32m      <a href='vscode-notebook-cell:/c%3A/Users/jatha/Code/NTNU/TMA4130-Matematikk-4N/exercises/exercise4.ipynb#W3sZmlsZQ%3D%3D?line=0'>1</a>\u001b[0m plt\u001b[39m.\u001b[39mfigure(figsize\u001b[39m=\u001b[39m(FIGURE_SIDE, FIGURE_SIDE))\n\u001b[0;32m      <a href='vscode-notebook-cell:/c%3A/Users/jatha/Code/NTNU/TMA4130-Matematikk-4N/exercises/exercise4.ipynb#W3sZmlsZQ%3D%3D?line=1'>2</a>\u001b[0m plt\u001b[39m.\u001b[39mlegend()\n\u001b[1;32m----> <a href='vscode-notebook-cell:/c%3A/Users/jatha/Code/NTNU/TMA4130-Matematikk-4N/exercises/exercise4.ipynb#W3sZmlsZQ%3D%3D?line=2'>3</a>\u001b[0m plt\u001b[39m.\u001b[39mplot(interval, f(interval), label\u001b[39m=\u001b[39m\u001b[39m'\u001b[39m\u001b[39mf(x)\u001b[39m\u001b[39m'\u001b[39m)\n\u001b[0;32m      <a href='vscode-notebook-cell:/c%3A/Users/jatha/Code/NTNU/TMA4130-Matematikk-4N/exercises/exercise4.ipynb#W3sZmlsZQ%3D%3D?line=3'>4</a>\u001b[0m plt\u001b[39m.\u001b[39mxlabel(\u001b[39m'\u001b[39m\u001b[39mx\u001b[39m\u001b[39m'\u001b[39m)\n\u001b[0;32m      <a href='vscode-notebook-cell:/c%3A/Users/jatha/Code/NTNU/TMA4130-Matematikk-4N/exercises/exercise4.ipynb#W3sZmlsZQ%3D%3D?line=4'>5</a>\u001b[0m plt\u001b[39m.\u001b[39mylabel(\u001b[39m'\u001b[39m\u001b[39my\u001b[39m\u001b[39m'\u001b[39m)\n",
      "\u001b[1;32mc:\\Users\\jatha\\Code\\NTNU\\TMA4130-Matematikk-4N\\exercises\\exercise4.ipynb Cell 5\u001b[0m line \u001b[0;36m2\n\u001b[0;32m      <a href='vscode-notebook-cell:/c%3A/Users/jatha/Code/NTNU/TMA4130-Matematikk-4N/exercises/exercise4.ipynb#W3sZmlsZQ%3D%3D?line=0'>1</a>\u001b[0m \u001b[39m# Definitions\u001b[39;00m\n\u001b[1;32m----> <a href='vscode-notebook-cell:/c%3A/Users/jatha/Code/NTNU/TMA4130-Matematikk-4N/exercises/exercise4.ipynb#W3sZmlsZQ%3D%3D?line=1'>2</a>\u001b[0m f: \u001b[39m'\u001b[39m\u001b[39mfunction\u001b[39m\u001b[39m'\u001b[39m \u001b[39m=\u001b[39m \u001b[39mlambda\u001b[39;00m x: (\u001b[39m1\u001b[39m \u001b[39m-\u001b[39m \u001b[39mpow\u001b[39;49m(\u001b[39m3\u001b[39;49m, x)) \u001b[39m*\u001b[39m \u001b[39mpow\u001b[39m(x, \u001b[39m2\u001b[39m) \u001b[39m+\u001b[39m \u001b[39m4\u001b[39m \u001b[39m*\u001b[39m (x \u001b[39m-\u001b[39m \u001b[39m1\u001b[39m) \u001b[39m*\u001b[39m \u001b[39mpow\u001b[39m(\u001b[39m3\u001b[39m, x) \u001b[39m+\u001b[39m \u001b[39m4\u001b[39m \u001b[39m*\u001b[39m (\u001b[39m1\u001b[39m \u001b[39m-\u001b[39m x)\n\u001b[0;32m      <a href='vscode-notebook-cell:/c%3A/Users/jatha/Code/NTNU/TMA4130-Matematikk-4N/exercises/exercise4.ipynb#W3sZmlsZQ%3D%3D?line=2'>3</a>\u001b[0m a: \u001b[39mfloat\u001b[39m \u001b[39m=\u001b[39m \u001b[39m-\u001b[39m\u001b[39m2\u001b[39m\n\u001b[0;32m      <a href='vscode-notebook-cell:/c%3A/Users/jatha/Code/NTNU/TMA4130-Matematikk-4N/exercises/exercise4.ipynb#W3sZmlsZQ%3D%3D?line=3'>4</a>\u001b[0m b: \u001b[39mfloat\u001b[39m \u001b[39m=\u001b[39m \u001b[39m3\u001b[39m\n",
      "\u001b[1;31mTypeError\u001b[0m: only length-1 arrays can be converted to Python scalars"
     ]
    },
    {
     "data": {
      "image/png": "[encoded data removed]",
      "text/plain": [
       "<Figure size 500x500 with 1 Axes>"
      ]
     },
     "metadata": {},
     "output_type": "display_data"
    }
   ],
   "source": [
    "plt.figure(figsize=(FIGURE_SIDE, FIGURE_SIDE))\n",
    "plt.legend()\n",
    "plt.plot(interval, f(interval), label='f(x)')\n",
    "plt.xlabel('x')\n",
    "plt.ylabel('y')\n",
    "plt.grid()\n",
    "plt.show()"
   ]
  },
  {
   "cell_type": "markdown",
   "metadata": {},
   "source": [
    "### d)"
   ]
  },
  {
   "cell_type": "code",
   "execution_count": 66,
   "metadata": {},
   "outputs": [],
   "source": [
    "MAX_ERROR = 1e-3"
   ]
  },
  {
   "cell_type": "code",
   "execution_count": 67,
   "metadata": {},
   "outputs": [],
   "source": [
    "def bisect(\n",
    "    f: 'function',\n",
    "    a: float,\n",
    "    b: float,\n",
    "    max_error: float = MAX_ERROR\n",
    ") -> tuple[float, float]:\n",
    "    iterations: int = int(np.ceil(np.divide(\n",
    "        np.log(np.divide(b - a, 2 * max_error)),\n",
    "        np.log(2)\n",
    "    )))\n",
    "\n",
    "    for i in range(iterations):\n",
    "        c = np.divide(a + b, 2)\n",
    "\n",
    "        if f(a) * f(c) <= 0:\n",
    "            b = c\n",
    "        elif f(c) * f(b) <= 0:\n",
    "            a = c\n",
    "\n",
    "    x_hat = np.divide(a + b, 2)\n",
    "    estimated_root = f(x_hat)\n",
    "    return x_hat, estimated_root"
   ]
  },
  {
   "cell_type": "code",
   "execution_count": 68,
   "metadata": {},
   "outputs": [
    {
     "name": "stdout",
     "output_type": "stream",
     "text": [
      "-0.0005364022682776692\n"
     ]
    }
   ],
   "source": [
    "x_hat, estimated_root = bisect(f, a, b)\n",
    "print(f\"f({x_hat}) = {estimated_root}\")"
   ]
  }
 ],
 "metadata": {
  "kernelspec": {
   "display_name": "venv",
   "language": "python",
   "name": "python3"
  },
  "language_info": {
   "codemirror_mode": {
    "name": "ipython",
    "version": 3
   },
   "file_extension": ".py",
   "mimetype": "text/x-python",
   "name": "python",
   "nbconvert_exporter": "python",
   "pygments_lexer": "ipython3",
   "version": "3.10.8"
  },
  "orig_nbformat": 4
 },
 "nbformat": 4,
 "nbformat_minor": 2
}
