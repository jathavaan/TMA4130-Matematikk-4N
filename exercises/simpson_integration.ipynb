{
 "cells": [
  {
   "cell_type": "code",
   "execution_count": 24,
   "metadata": {},
   "outputs": [],
   "source": [
    "# Importing the necessary libraries\n",
    "import numpy as np\n",
    "import matplotlib.pyplot as plt"
   ]
  },
  {
   "cell_type": "code",
   "execution_count": 25,
   "metadata": {},
   "outputs": [],
   "source": [
    "# Defining the interval boundaries and the funciton to integrate\n",
    "a=0\n",
    "b=1\n",
    "def f(x):\n",
    "    return np.exp(-x)"
   ]
  },
  {
   "cell_type": "code",
   "execution_count": 26,
   "metadata": {},
   "outputs": [
    {
     "data": {
      "text/plain": [
       "array([2, 4, 6, 8])"
      ]
     },
     "execution_count": 26,
     "metadata": {},
     "output_type": "execute_result"
    }
   ],
   "source": [
    "#Defining an array with the number of intervals\n",
    "ms = np.arange(2,10,2)\n",
    "ms"
   ]
  },
  {
   "cell_type": "code",
   "execution_count": 27,
   "metadata": {},
   "outputs": [],
   "source": [
    "# Definition of the Simpson integrating function. Inputs:\n",
    "#  f: funciton to integrate\n",
    "#  a: interval start \n",
    "#  b: interval end\n",
    "#  m: number of subintervals\n",
    "# Outputs:\n",
    "#  int: value of the integral\n",
    "def compositeSimpson(f, a, b, m):\n",
    "    h = (b - a) / m\n",
    "    x = np.linspace(a, b, m + 1)\n",
    "    integral = 1 / 3 * h * (f(x[0]) + 4 * np.sum(f(x[1:m:2])) + 2 * np.sum(f(x[2:m-1:2])) + f(x[m]))\n",
    "    return integral"
   ]
  },
  {
   "cell_type": "code",
   "execution_count": 28,
   "metadata": {},
   "outputs": [],
   "source": [
    "# Exact integral value\n",
    "I_exact = np.divide(np.e - 1, np.e)"
   ]
  },
  {
   "cell_type": "code",
   "execution_count": 29,
   "metadata": {},
   "outputs": [
    {
     "name": "stdout",
     "output_type": "stream",
     "text": [
      "Error for m =  1  is  0.17616074510474355\n",
      "Error for m =  2  is  -0.00021312117510496886\n",
      "Error for m =  3  is  0.16167559399893555\n"
     ]
    }
   ],
   "source": [
    "for i in range(1, 4):\n",
    "    err = I_exact - compositeSimpson(f, a, b, i)\n",
    "    print(\"Error for m = \", i, \" is \", err)"
   ]
  },
  {
   "cell_type": "code",
   "execution_count": 30,
   "metadata": {},
   "outputs": [
    {
     "name": "stdout",
     "output_type": "stream",
     "text": [
      "Subintervals:  [2 4 6 8]\n",
      "Errors:  [0.00021312117510496886, 1.361649197462178e-05, 2.700772859354217e-06, 8.557761845828793e-07]\n"
     ]
    }
   ],
   "source": [
    "# Array of errors\n",
    "errs = [np.abs(I_exact - compositeSimpson(f,a,b,m)) for m in ms]\n",
    "print('Subintervals: ', ms)\n",
    "print('Errors: ', errs)"
   ]
  },
  {
   "cell_type": "code",
   "execution_count": 31,
   "metadata": {},
   "outputs": [
    {
     "data": {
      "text/plain": [
       "[3.9682469683548565, 3.989846955184642, 3.994980883230605]"
      ]
     },
     "execution_count": 31,
     "metadata": {},
     "output_type": "execute_result"
    }
   ],
   "source": [
    "#Estimated convergence order (should be 4 for Simpson's rule)\n",
    "approxp = [ np.log(errs[i+1]/errs[i]) / (np.log(ms[i]/ms[i+1]))  for i in range(ms.size-1) ]\n",
    "approxp"
   ]
  }
 ],
 "metadata": {
  "kernelspec": {
   "display_name": "Python 3",
   "language": "python",
   "name": "python3"
  },
  "language_info": {
   "codemirror_mode": {
    "name": "ipython",
    "version": 3
   },
   "file_extension": ".py",
   "mimetype": "text/x-python",
   "name": "python",
   "nbconvert_exporter": "python",
   "pygments_lexer": "ipython3",
   "version": "3.10.8"
  },
  "vscode": {
   "interpreter": {
    "hash": "5c7b89af1651d0b8571dde13640ecdccf7d5a6204171d6ab33e7c296e100e08a"
   }
  }
 },
 "nbformat": 4,
 "nbformat_minor": 2
}
